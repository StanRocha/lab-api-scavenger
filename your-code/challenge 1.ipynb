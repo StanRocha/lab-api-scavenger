{
 "cells": [
  {
   "cell_type": "code",
   "execution_count": 1,
   "id": "10dc2ecd",
   "metadata": {},
   "outputs": [],
   "source": [
    "import requests\n",
    "from requests.auth import HTTPBasicAuth\n",
    "import getpass\n",
    "import numpy as np\n",
    "import pandas as pd\n",
    "from requests_oauthlib import OAuth2Session\n",
    "import json"
   ]
  },
  {
   "cell_type": "code",
   "execution_count": 2,
   "id": "dfd6e44e",
   "metadata": {},
   "outputs": [],
   "source": [
    "client_id= '959dc4c8b1dd41ebb516'\n",
    "client_secret = '0a8b62e0006228db0ec194bbe9cd26107fdbd710'\n",
    "\n",
    "redirect_uri= 'https://localhost:8082/callback'\n",
    "\n",
    "oauth = OAuth2Session(client_id, redirect_uri = redirect_uri, scope= ['repo'])"
   ]
  },
  {
   "cell_type": "code",
   "execution_count": 3,
   "id": "ba28fdba",
   "metadata": {},
   "outputs": [],
   "source": [
    "authorization_url, state = oauth.authorization_url('https://github.com/login/oauth/authorize')"
   ]
  },
  {
   "cell_type": "code",
   "execution_count": 4,
   "id": "efc1f07f",
   "metadata": {},
   "outputs": [
    {
     "name": "stdout",
     "output_type": "stream",
     "text": [
      "Please go https://github.com/login/oauth/authorize?response_type=code&client_id=959dc4c8b1dd41ebb516&redirect_uri=https%3A%2F%2Flocalhost%3A8082%2Fcallback&scope=repo&state=AYNdnlnrdyydMdsDNYIAzNqdCGZR7g and authorize acess.\n"
     ]
    }
   ],
   "source": [
    "print('Please go %s and authorize acess.' % authorization_url)"
   ]
  },
  {
   "cell_type": "code",
   "execution_count": 5,
   "id": "6a94babc",
   "metadata": {},
   "outputs": [
    {
     "name": "stdout",
     "output_type": "stream",
     "text": [
      "Enter the full callback url: https://localhost:8082/callback?code=34b46cc258b7504960d4&state=AYNdnlnrdyydMdsDNYIAzNqdCGZR7g\n"
     ]
    }
   ],
   "source": [
    "authorization_response = input('Enter the full callback url: ')"
   ]
  },
  {
   "cell_type": "code",
   "execution_count": 6,
   "id": "81b2eccc",
   "metadata": {},
   "outputs": [],
   "source": [
    "# token = oauth.fetch_token('https://github.com/login/oauth/access_token',\n",
    "#                          authorization_response = authorization_response,\n",
    "#                          client_secret = client_secret )"
   ]
  },
  {
   "cell_type": "markdown",
   "id": "1055c593",
   "metadata": {},
   "source": [
    "# CHALLENGE 1 : Fork Languages"
   ]
  },
  {
   "cell_type": "code",
   "execution_count": 11,
   "id": "1787f51a",
   "metadata": {},
   "outputs": [],
   "source": [
    "r = oauth.get('https://api.github.com/repos/ironhack-datalabs/bcn-feb-2019/forks')\n",
    "response = requests.get('https://api.github.com/repos/ironhack-datalabs/bcn-feb-2019/forks')\n",
    "# response.text"
   ]
  },
  {
   "cell_type": "code",
   "execution_count": 13,
   "id": "d2efc939",
   "metadata": {},
   "outputs": [
    {
     "data": {
      "text/html": [
       "<div>\n",
       "<style scoped>\n",
       "    .dataframe tbody tr th:only-of-type {\n",
       "        vertical-align: middle;\n",
       "    }\n",
       "\n",
       "    .dataframe tbody tr th {\n",
       "        vertical-align: top;\n",
       "    }\n",
       "\n",
       "    .dataframe thead th {\n",
       "        text-align: right;\n",
       "    }\n",
       "</style>\n",
       "<table border=\"1\" class=\"dataframe\">\n",
       "  <thead>\n",
       "    <tr style=\"text-align: right;\">\n",
       "      <th></th>\n",
       "      <th>id</th>\n",
       "      <th>node_id</th>\n",
       "      <th>name</th>\n",
       "      <th>full_name</th>\n",
       "      <th>private</th>\n",
       "      <th>owner</th>\n",
       "      <th>html_url</th>\n",
       "      <th>description</th>\n",
       "      <th>fork</th>\n",
       "      <th>url</th>\n",
       "      <th>...</th>\n",
       "      <th>open_issues_count</th>\n",
       "      <th>license</th>\n",
       "      <th>allow_forking</th>\n",
       "      <th>is_template</th>\n",
       "      <th>topics</th>\n",
       "      <th>visibility</th>\n",
       "      <th>forks</th>\n",
       "      <th>open_issues</th>\n",
       "      <th>watchers</th>\n",
       "      <th>default_branch</th>\n",
       "    </tr>\n",
       "  </thead>\n",
       "  <tbody>\n",
       "    <tr>\n",
       "      <th>0</th>\n",
       "      <td>425239153</td>\n",
       "      <td>R_kgDOGViicQ</td>\n",
       "      <td>bcn-feb-2019</td>\n",
       "      <td>StanRocha/bcn-feb-2019</td>\n",
       "      <td>False</td>\n",
       "      <td>{'login': 'StanRocha', 'id': 87268484, 'node_i...</td>\n",
       "      <td>https://github.com/StanRocha/bcn-feb-2019</td>\n",
       "      <td>None</td>\n",
       "      <td>True</td>\n",
       "      <td>https://api.github.com/repos/StanRocha/bcn-feb...</td>\n",
       "      <td>...</td>\n",
       "      <td>0</td>\n",
       "      <td>{'key': 'agpl-3.0', 'name': 'GNU Affero Genera...</td>\n",
       "      <td>True</td>\n",
       "      <td>False</td>\n",
       "      <td>[]</td>\n",
       "      <td>public</td>\n",
       "      <td>0</td>\n",
       "      <td>0</td>\n",
       "      <td>0</td>\n",
       "      <td>master</td>\n",
       "    </tr>\n",
       "  </tbody>\n",
       "</table>\n",
       "<p>1 rows × 77 columns</p>\n",
       "</div>"
      ],
      "text/plain": [
       "          id       node_id          name               full_name  private  \\\n",
       "0  425239153  R_kgDOGViicQ  bcn-feb-2019  StanRocha/bcn-feb-2019    False   \n",
       "\n",
       "                                               owner  \\\n",
       "0  {'login': 'StanRocha', 'id': 87268484, 'node_i...   \n",
       "\n",
       "                                    html_url description  fork  \\\n",
       "0  https://github.com/StanRocha/bcn-feb-2019        None  True   \n",
       "\n",
       "                                                 url  ... open_issues_count  \\\n",
       "0  https://api.github.com/repos/StanRocha/bcn-feb...  ...                 0   \n",
       "\n",
       "                                             license allow_forking  \\\n",
       "0  {'key': 'agpl-3.0', 'name': 'GNU Affero Genera...          True   \n",
       "\n",
       "  is_template topics visibility forks open_issues watchers default_branch  \n",
       "0       False     []     public     0           0        0         master  \n",
       "\n",
       "[1 rows x 77 columns]"
      ]
     },
     "execution_count": 13,
     "metadata": {},
     "output_type": "execute_result"
    }
   ],
   "source": [
    "new_df = pd.DataFrame(response.json())\n",
    "new_df.head(1)"
   ]
  },
  {
   "cell_type": "code",
   "execution_count": 9,
   "id": "2615a058",
   "metadata": {},
   "outputs": [
    {
     "data": {
      "text/plain": [
       "0                None\n",
       "1                None\n",
       "2                None\n",
       "3                None\n",
       "4                None\n",
       "5    Jupyter Notebook\n",
       "Name: language, dtype: object"
      ]
     },
     "execution_count": 9,
     "metadata": {},
     "output_type": "execute_result"
    }
   ],
   "source": [
    "new_df['language']"
   ]
  },
  {
   "cell_type": "code",
   "execution_count": 10,
   "id": "345b71df",
   "metadata": {},
   "outputs": [
    {
     "data": {
      "text/plain": [
       "array(['Jupyter Notebook'], dtype=object)"
      ]
     },
     "execution_count": 10,
     "metadata": {},
     "output_type": "execute_result"
    }
   ],
   "source": [
    "new_df['language'][new_df['language'].isnull() == False].unique()\n"
   ]
  },
  {
   "cell_type": "code",
   "execution_count": null,
   "id": "8101f05e",
   "metadata": {},
   "outputs": [],
   "source": []
  },
  {
   "cell_type": "code",
   "execution_count": null,
   "id": "6e303b3c",
   "metadata": {},
   "outputs": [],
   "source": []
  }
 ],
 "metadata": {
  "kernelspec": {
   "display_name": "Python 3",
   "language": "python",
   "name": "python3"
  },
  "language_info": {
   "codemirror_mode": {
    "name": "ipython",
    "version": 3
   },
   "file_extension": ".py",
   "mimetype": "text/x-python",
   "name": "python",
   "nbconvert_exporter": "python",
   "pygments_lexer": "ipython3",
   "version": "3.8.8"
  }
 },
 "nbformat": 4,
 "nbformat_minor": 5
}
